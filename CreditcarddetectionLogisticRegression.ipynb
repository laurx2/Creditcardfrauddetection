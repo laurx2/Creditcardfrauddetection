{
  "nbformat": 4,
  "nbformat_minor": 0,
  "metadata": {
    "colab": {
      "name": "CreditcarddetectionLogisticRegression.ipynb",
      "provenance": []
    },
    "kernelspec": {
      "name": "python3",
      "display_name": "Python 3"
    },
    "language_info": {
      "name": "python"
    }
  },
  "cells": [
    {
      "cell_type": "code",
      "metadata": {
        "id": "aF53OaDPOXiJ"
      },
      "source": [
        "import numpy as np \n",
        "import pandas as pd\n",
        "import matplotlib.pyplot as plt"
      ],
      "execution_count": null,
      "outputs": []
    },
    {
      "cell_type": "code",
      "metadata": {
        "id": "UrFc5g_5Ofg4"
      },
      "source": [
        "data = pd.read_csv(\"/Credit Card Fraud Dataset.csv\")\n"
      ],
      "execution_count": null,
      "outputs": []
    },
    {
      "cell_type": "code",
      "metadata": {
        "colab": {
          "base_uri": "https://localhost:8080/",
          "height": 206
        },
        "id": "cC6bTea-PB4y",
        "outputId": "9feed802-7718-4562-e821-ba8a9b2c5c70"
      },
      "source": [
        "data.head()\n"
      ],
      "execution_count": null,
      "outputs": [
        {
          "output_type": "execute_result",
          "data": {
            "text/html": [
              "\n",
              "  <div id=\"df-4610d202-d6e3-4d70-8672-30c2ae138abd\">\n",
              "    <div class=\"colab-df-container\">\n",
              "      <div>\n",
              "<style scoped>\n",
              "    .dataframe tbody tr th:only-of-type {\n",
              "        vertical-align: middle;\n",
              "    }\n",
              "\n",
              "    .dataframe tbody tr th {\n",
              "        vertical-align: top;\n",
              "    }\n",
              "\n",
              "    .dataframe thead th {\n",
              "        text-align: right;\n",
              "    }\n",
              "</style>\n",
              "<table border=\"1\" class=\"dataframe\">\n",
              "  <thead>\n",
              "    <tr style=\"text-align: right;\">\n",
              "      <th></th>\n",
              "      <th></th>\n",
              "      <th></th>\n",
              "      <th></th>\n",
              "      <th></th>\n",
              "      <th></th>\n",
              "      <th></th>\n",
              "      <th></th>\n",
              "      <th></th>\n",
              "      <th></th>\n",
              "      <th></th>\n",
              "      <th></th>\n",
              "      <th></th>\n",
              "      <th></th>\n",
              "      <th>GephiData</th>\n",
              "    </tr>\n",
              "  </thead>\n",
              "  <tbody>\n",
              "    <tr>\n",
              "      <th>idItem</th>\n",
              "      <th>date</th>\n",
              "      <th>client</th>\n",
              "      <th>usercategory</th>\n",
              "      <th>profile</th>\n",
              "      <th>location</th>\n",
              "      <th>typeTrans</th>\n",
              "      <th>amount</th>\n",
              "      <th>balance</th>\n",
              "      <th>clientB</th>\n",
              "      <th>profileB</th>\n",
              "      <th>locationB</th>\n",
              "      <th>balanceB</th>\n",
              "      <th>Class</th>\n",
              "      <td>suspicious</td>\n",
              "    </tr>\n",
              "    <tr>\n",
              "      <th>1</th>\n",
              "      <th>2014-01-07 00:40:10</th>\n",
              "      <th>C813207794</th>\n",
              "      <th>4</th>\n",
              "      <th>1</th>\n",
              "      <th>6</th>\n",
              "      <th>5</th>\n",
              "      <th>31404.69</th>\n",
              "      <th>31459.54</th>\n",
              "      <th>C315780191</th>\n",
              "      <th>1</th>\n",
              "      <th>0</th>\n",
              "      <th>15911.47</th>\n",
              "      <th>0</th>\n",
              "      <td>0</td>\n",
              "    </tr>\n",
              "    <tr>\n",
              "      <th>5</th>\n",
              "      <th>2013-09-17 04:08:16</th>\n",
              "      <th>C1865053469</th>\n",
              "      <th>4</th>\n",
              "      <th>1</th>\n",
              "      <th>0</th>\n",
              "      <th>3</th>\n",
              "      <th>26914.05</th>\n",
              "      <th>34871.24</th>\n",
              "      <th>C406562340</th>\n",
              "      <th>1</th>\n",
              "      <th>6</th>\n",
              "      <th>7697.58</th>\n",
              "      <th>0</th>\n",
              "      <td>0</td>\n",
              "    </tr>\n",
              "    <tr>\n",
              "      <th>7</th>\n",
              "      <th>2014-01-24 15:15:29</th>\n",
              "      <th>C657736953</th>\n",
              "      <th>1</th>\n",
              "      <th>1</th>\n",
              "      <th>5</th>\n",
              "      <th>4</th>\n",
              "      <th>13247.80</th>\n",
              "      <th>27865.02</th>\n",
              "      <th>C99994286</th>\n",
              "      <th>2</th>\n",
              "      <th>5</th>\n",
              "      <th>23507.29</th>\n",
              "      <th>0</th>\n",
              "      <td>0</td>\n",
              "    </tr>\n",
              "    <tr>\n",
              "      <th>9</th>\n",
              "      <th>2013-12-01 19:21:48</th>\n",
              "      <th>C972370591</th>\n",
              "      <th>3</th>\n",
              "      <th>2</th>\n",
              "      <th>0</th>\n",
              "      <th>5</th>\n",
              "      <th>118829.28</th>\n",
              "      <th>73552.01</th>\n",
              "      <th>C956030107</th>\n",
              "      <th>1</th>\n",
              "      <th>0</th>\n",
              "      <th>584.73</th>\n",
              "      <th>0</th>\n",
              "      <td>0</td>\n",
              "    </tr>\n",
              "  </tbody>\n",
              "</table>\n",
              "</div>\n",
              "      <button class=\"colab-df-convert\" onclick=\"convertToInteractive('df-4610d202-d6e3-4d70-8672-30c2ae138abd')\"\n",
              "              title=\"Convert this dataframe to an interactive table.\"\n",
              "              style=\"display:none;\">\n",
              "        \n",
              "  <svg xmlns=\"http://www.w3.org/2000/svg\" height=\"24px\"viewBox=\"0 0 24 24\"\n",
              "       width=\"24px\">\n",
              "    <path d=\"M0 0h24v24H0V0z\" fill=\"none\"/>\n",
              "    <path d=\"M18.56 5.44l.94 2.06.94-2.06 2.06-.94-2.06-.94-.94-2.06-.94 2.06-2.06.94zm-11 1L8.5 8.5l.94-2.06 2.06-.94-2.06-.94L8.5 2.5l-.94 2.06-2.06.94zm10 10l.94 2.06.94-2.06 2.06-.94-2.06-.94-.94-2.06-.94 2.06-2.06.94z\"/><path d=\"M17.41 7.96l-1.37-1.37c-.4-.4-.92-.59-1.43-.59-.52 0-1.04.2-1.43.59L10.3 9.45l-7.72 7.72c-.78.78-.78 2.05 0 2.83L4 21.41c.39.39.9.59 1.41.59.51 0 1.02-.2 1.41-.59l7.78-7.78 2.81-2.81c.8-.78.8-2.07 0-2.86zM5.41 20L4 18.59l7.72-7.72 1.47 1.35L5.41 20z\"/>\n",
              "  </svg>\n",
              "      </button>\n",
              "      \n",
              "  <style>\n",
              "    .colab-df-container {\n",
              "      display:flex;\n",
              "      flex-wrap:wrap;\n",
              "      gap: 12px;\n",
              "    }\n",
              "\n",
              "    .colab-df-convert {\n",
              "      background-color: #E8F0FE;\n",
              "      border: none;\n",
              "      border-radius: 50%;\n",
              "      cursor: pointer;\n",
              "      display: none;\n",
              "      fill: #1967D2;\n",
              "      height: 32px;\n",
              "      padding: 0 0 0 0;\n",
              "      width: 32px;\n",
              "    }\n",
              "\n",
              "    .colab-df-convert:hover {\n",
              "      background-color: #E2EBFA;\n",
              "      box-shadow: 0px 1px 2px rgba(60, 64, 67, 0.3), 0px 1px 3px 1px rgba(60, 64, 67, 0.15);\n",
              "      fill: #174EA6;\n",
              "    }\n",
              "\n",
              "    [theme=dark] .colab-df-convert {\n",
              "      background-color: #3B4455;\n",
              "      fill: #D2E3FC;\n",
              "    }\n",
              "\n",
              "    [theme=dark] .colab-df-convert:hover {\n",
              "      background-color: #434B5C;\n",
              "      box-shadow: 0px 1px 3px 1px rgba(0, 0, 0, 0.15);\n",
              "      filter: drop-shadow(0px 1px 2px rgba(0, 0, 0, 0.3));\n",
              "      fill: #FFFFFF;\n",
              "    }\n",
              "  </style>\n",
              "\n",
              "      <script>\n",
              "        const buttonEl =\n",
              "          document.querySelector('#df-4610d202-d6e3-4d70-8672-30c2ae138abd button.colab-df-convert');\n",
              "        buttonEl.style.display =\n",
              "          google.colab.kernel.accessAllowed ? 'block' : 'none';\n",
              "\n",
              "        async function convertToInteractive(key) {\n",
              "          const element = document.querySelector('#df-4610d202-d6e3-4d70-8672-30c2ae138abd');\n",
              "          const dataTable =\n",
              "            await google.colab.kernel.invokeFunction('convertToInteractive',\n",
              "                                                     [key], {});\n",
              "          if (!dataTable) return;\n",
              "\n",
              "          const docLinkHtml = 'Like what you see? Visit the ' +\n",
              "            '<a target=\"_blank\" href=https://colab.research.google.com/notebooks/data_table.ipynb>data table notebook</a>'\n",
              "            + ' to learn more about interactive tables.';\n",
              "          element.innerHTML = '';\n",
              "          dataTable['output_type'] = 'display_data';\n",
              "          await google.colab.output.renderOutput(dataTable, element);\n",
              "          const docLink = document.createElement('div');\n",
              "          docLink.innerHTML = docLinkHtml;\n",
              "          element.appendChild(docLink);\n",
              "        }\n",
              "      </script>\n",
              "    </div>\n",
              "  </div>\n",
              "  "
            ],
            "text/plain": [
              "                                                                                                                                                 GephiData\n",
              "idItem date                client      usercategory profile location typeTrans amount    balance  clientB    profileB locationB balanceB Class  suspicious\n",
              "1      2014-01-07 00:40:10 C813207794  4            1       6        5         31404.69  31459.54 C315780191 1        0         15911.47 0               0\n",
              "5      2013-09-17 04:08:16 C1865053469 4            1       0        3         26914.05  34871.24 C406562340 1        6         7697.58  0               0\n",
              "7      2014-01-24 15:15:29 C657736953  1            1       5        4         13247.80  27865.02 C99994286  2        5         23507.29 0               0\n",
              "9      2013-12-01 19:21:48 C972370591  3            2       0        5         118829.28 73552.01 C956030107 1        0         584.73   0               0"
            ]
          },
          "metadata": {},
          "execution_count": 3
        }
      ]
    },
    {
      "cell_type": "code",
      "metadata": {
        "colab": {
          "base_uri": "https://localhost:8080/"
        },
        "id": "MBWfvC61PYsC",
        "outputId": "7054f326-eb58-496b-cf50-c99a2257e0c3"
      },
      "source": [
        "data.Class.unique()"
      ],
      "execution_count": null,
      "outputs": [
        {
          "output_type": "execute_result",
          "data": {
            "text/plain": [
              "array([0, 1])"
            ]
          },
          "metadata": {},
          "execution_count": 4
        }
      ]
    },
    {
      "cell_type": "code",
      "metadata": {
        "id": "nn8mic1tPxLg"
      },
      "source": [
        "data=data.dropna()"
      ],
      "execution_count": null,
      "outputs": []
    },
    {
      "cell_type": "code",
      "metadata": {
        "colab": {
          "base_uri": "https://localhost:8080/",
          "height": 279
        },
        "id": "DxgvUayFSjdA",
        "outputId": "14e98977-dfc4-428a-99f3-88ae9425288e"
      },
      "source": [
        "suspicious_count = len(data[data['Class'] == 1])\n",
        "non_suspicious_count = len(data[data['Class'] == 0])\n",
        "\n",
        "sampled_non_suspicious = data[data['Class'] == 0].sample(n=suspicious_count)\n",
        "suspicious = data[data['Class'] == 1]\n",
        "\n",
        "sampled_non_suspicious.reset_index(drop=True, inplace=True)\n",
        "suspicious.reset_index(drop=True, inplace=True)\n",
        "\n",
        "balanced_data = pd.concat([sampled_non_suspicious, suspicious]).reset_index(drop=True);\n",
        "\n",
        "balanced_data['Class'].value_counts().plot(kind='bar')"
      ],
      "execution_count": null,
      "outputs": [
        {
          "output_type": "execute_result",
          "data": {
            "text/plain": [
              "<matplotlib.axes._subplots.AxesSubplot at 0x7efc73111990>"
            ]
          },
          "metadata": {},
          "execution_count": 6
        },
        {
          "output_type": "display_data",
          "data": {
            "image/png": "[encoded data removed]",
            "text/plain": [
              "<Figure size 432x288 with 1 Axes>"
            ]
          },
          "metadata": {
            "needs_background": "light"
          }
        }
      ]
    },
    {
      "cell_type": "code",
      "metadata": {
        "id": "2wVWG4V_Qatc"
      },
      "source": [
        "y = balanced_data.Class\n",
        "X = balanced_data.drop(columns=[\"Class\"])"
      ],
      "execution_count": null,
      "outputs": []
    },
    {
      "cell_type": "code",
      "metadata": {
        "id": "xo6GFWFJR5U_"
      },
      "source": [
        "from sklearn.model_selection import train_test_split\n",
        "from sklearn.linear_model import LogisticRegression\n",
        "from sklearn.preprocessing import StandardScaler\n",
        "from sklearn.metrics import confusion_matrix, accuracy_score, recall_score, precision_score, f1_score\n",
        "from sklearn.model_selection import GridSearchCV\n",
        "\n",
        "import warnings\n",
        "warnings.simplefilter(\"ignore\")\n",
        "sc = StandardScaler()\n",
        "X = sc.fit_transform(X)\n",
        "X_train, X_test, y_train, y_test = train_test_split(X, y, test_size=0.2, stratify=y, random_state=42)"
      ],
      "execution_count": null,
      "outputs": []
    },
    {
      "cell_type": "code",
      "metadata": {
        "colab": {
          "base_uri": "https://localhost:8080/"
        },
        "id": "XgCVIETISKJu",
        "outputId": "3c270ed7-17bb-45cd-c3a1-826ff5276b83"
      },
      "source": [
        "print(X_train.shape)\n",
        "print(X_test.shape)\n",
        "print(y_train.shape)\n",
        "print(X_test.shape)\n"
      ],
      "execution_count": null,
      "outputs": [
        {
          "output_type": "stream",
          "name": "stdout",
          "text": [
            "(787, 30)\n",
            "(197, 30)\n",
            "(787,)\n",
            "(197, 30)\n"
          ]
        }
      ]
    },
    {
      "cell_type": "code",
      "metadata": {
        "id": "JjMmti6l3Yh4"
      },
      "source": [
        "param_grid=[{\"C\":np.logspace(-4,4,15)},\n",
        "            {\"penalty\": [\"l1\",\"l2\"]},\n",
        "            {\"solver\": [\"lbfgs\",\"liblinear\",\"adam\"]},\n",
        "            {\"max_iter\":[10000]}]\n",
        "lr=LogisticRegression()\n",
        "\n"
      ],
      "execution_count": null,
      "outputs": []
    },
    {
      "cell_type": "code",
      "metadata": {
        "colab": {
          "base_uri": "https://localhost:8080/"
        },
        "id": "cgCJ_xF6TAJa",
        "outputId": "eb523a27-8a1c-48cb-9bcd-3becf5b6589d"
      },
      "source": [
        "grid = GridSearchCV(estimator=lr, param_grid=param_grid, cv=10, scoring='recall', refit=True) # you can change scoring function that will impact the estimator #### https://scikit-learn.org/stable/modules/model_evaluation.html\n",
        "grid = grid.fit(X_train, y_train)\n",
        "print('Best_estimator_: {}\\nWeights: {}, Intercept: {}\\nBest params: {}\\nScorer: {}'.format(grid.best_estimator_, grid.best_estimator_.coef_, grid.best_estimator_.intercept_,grid.best_params_, grid.scorer_))\n",
        "print('Available parameters for the estimator (fine-tuning): ',lr.get_params().keys())"
      ],
      "execution_count": null,
      "outputs": [
        {
          "output_type": "stream",
          "name": "stdout",
          "text": [
            "Best_estimator_: LogisticRegression(C=2682.695795279722)\n",
            "Weights: [[ -0.92468568   4.95550862  -2.26624284  -0.25104507   3.64670311\n",
            "    1.67818066  -0.57773309  -0.22113317  -5.59815094  -2.00657238\n",
            "   -8.68041182   2.21079657  -8.85131546  -0.47742052 -10.8888218\n",
            "   -0.1569749   -5.14277678 -14.06984672  -0.71446342   0.68600869\n",
            "   -0.65516571   0.86754758   1.06851214  -0.35264265   0.13190246\n",
            "   -0.67855931  -0.1856075    0.26903594   0.74629952   0.25656918]], Intercept: [28.60523689]\n",
            "Best params: {'C': 2682.695795279722}\n",
            "Scorer: make_scorer(recall_score, average=binary)\n",
            "Available parameters for the estimator (fine-tuning):  dict_keys(['C', 'class_weight', 'dual', 'fit_intercept', 'intercept_scaling', 'l1_ratio', 'max_iter', 'multi_class', 'n_jobs', 'penalty', 'random_state', 'solver', 'tol', 'verbose', 'warm_start'])\n"
          ]
        }
      ]
    },
    {
      "cell_type": "code",
      "metadata": {
        "colab": {
          "base_uri": "https://localhost:8080/"
        },
        "id": "YFJHHHU-TK2N",
        "outputId": "f63df684-c898-497b-b3b7-ab7b83cb4a9b"
      },
      "source": [
        "y_train_predict = grid.predict(X_train)\n",
        "print(\"Training SET\")\n",
        "print(\"--------------------------------------\")\n",
        "print('Accuracy: {:.3f}, Precision: {:.3f}, Recall: {:.3f}, F1 Score: {:.3f}'.format(accuracy_score(y_train, y_train_predict), precision_score(y_train, y_train_predict), recall_score(y_train, y_train_predict), f1_score(y_train, y_train_predict)))\n",
        "print(\"Confusion Matrix:\\n {}\".format(confusion_matrix(y_train, y_train_predict)))\n",
        "\n",
        "# model evaluation for testing set\n",
        "y_test_predict = grid.predict(X_test)\n",
        "\n",
        "print(\"\\nTesting SET\")\n",
        "print(\"--------------------------------------\")\n",
        "print('Accuracy: {:.3f}, Precision: {:.3f}, Recall: {:.3f}, F1 Score: {:.3f}'.format(accuracy_score(y_test, y_test_predict), precision_score(y_test, y_test_predict), recall_score(y_test, y_test_predict), f1_score(y_test, y_test_predict)))\n",
        "print(\"Confusion Matrix:\\n {}\".format(confusion_matrix(y_test, y_test_predict)))"
      ],
      "execution_count": null,
      "outputs": [
        {
          "output_type": "stream",
          "name": "stdout",
          "text": [
            "Training SET\n",
            "--------------------------------------\n",
            "Accuracy: 0.949, Precision: 0.976, Recall: 0.921, F1 Score: 0.948\n",
            "Confusion Matrix:\n",
            " [[384   9]\n",
            " [ 31 363]]\n",
            "\n",
            "Testing SET\n",
            "--------------------------------------\n",
            "Accuracy: 0.954, Precision: 0.959, Recall: 0.949, F1 Score: 0.954\n",
            "Confusion Matrix:\n",
            " [[95  4]\n",
            " [ 5 93]]\n"
          ]
        }
      ]
    },
    {
      "cell_type": "code",
      "source": [
        "from sklearn import metrics\n",
        "import seaborn as sns\n",
        "def accuracy(y, y_hat):\n",
        "  return np.mean(y == y_hat)\n",
        "cm = metrics.confusion_matrix(y_test, y_test_predict)\n",
        "plt.figure(figsize=(9,9))\n",
        "sns.heatmap(cm, annot=True, fmt=\".0f\", linewidths=.5, square = True, cmap = 'Blues_r');\n",
        "plt.ylabel('Actual label');\n",
        "plt.xlabel('Predicted label');\n",
        "all_sample_title = 'Accuracy Score: {0}'.format(accuracy)\n",
        "plt.title(all_sample_title, size = 15)"
      ],
      "metadata": {
        "colab": {
          "base_uri": "https://localhost:8080/",
          "height": 538
        },
        "id": "DfFgb0kC74XU",
        "outputId": "697e5abb-6a08-4c7d-f959-b22458d95750"
      },
      "execution_count": null,
      "outputs": [
        {
          "output_type": "execute_result",
          "data": {
            "text/plain": [
              "Text(0.5, 1.0, 'Accuracy Score: <function accuracy at 0x7efc5b47ef80>')"
            ]
          },
          "metadata": {},
          "execution_count": 13
        },
        {
          "output_type": "display_data",
          "data": {
            "image/png": "[encoded data removed]",
            "text/plain": [
              "<Figure size 648x648 with 2 Axes>"
            ]
          },
          "metadata": {
            "needs_background": "light"
          }
        }
      ]
    },
    {
      "cell_type": "code",
      "metadata": {
        "id": "avbH8kAfTPeO"
      },
      "source": [
        "from sklearn.metrics import roc_curve\n",
        "from sklearn.metrics import roc_auc_score "
      ],
      "execution_count": null,
      "outputs": []
    },
    {
      "cell_type": "code",
      "metadata": {
        "colab": {
          "base_uri": "https://localhost:8080/"
        },
        "id": "Jbi5jp01UBKF",
        "outputId": "3051da26-3a7c-44f3-d70d-7b7ccde706c4"
      },
      "source": [
        "#predict probabilities' \n",
        "\n",
        "lr_probs_train=grid.predict_proba(X_train)\n",
        "lr_probs_test=grid.predict_proba(X_test)\n",
        "\n",
        "#keep probabilities for the positive outcome only \n",
        "lr_probs_train=lr_probs_train[:,1]\n",
        "lr_probs_test=lr_probs_test[:,1]\n",
        "print('ROC AUC (Training)={:.3f}'.format(roc_auc_score(y_train, lr_probs_train)))\n",
        "print('ROC AUC (Testing)={:.3f}'.format(roc_auc_score(y_test, lr_probs_test)))"
      ],
      "execution_count": null,
      "outputs": [
        {
          "output_type": "stream",
          "name": "stdout",
          "text": [
            "ROC AUC (Training)=0.986\n",
            "ROC AUC (Testing)=0.983\n"
          ]
        }
      ]
    },
    {
      "cell_type": "code",
      "metadata": {
        "colab": {
          "base_uri": "https://localhost:8080/",
          "height": 350
        },
        "id": "dSX86o9yUFx1",
        "outputId": "b1a9a32d-4d6e-4cf6-c9d1-3bd4da38c612"
      },
      "source": [
        "lr_fpr_train, lr_tpr_train,_ = roc_curve(y_train, lr_probs_train)\n",
        "lr_fpr_test, lr_tpr_test,_ = roc_curve(y_test, lr_probs_test)\n",
        "\n",
        "# plot the roc curve for the training set\n",
        "_ = plt.figure(figsize=(15, 5))\n",
        "ax1 =plt.subplot(121)\n",
        "_ = ax1.plot(lr_fpr_train, lr_tpr_train, marker='x')\n",
        "_ = ax1.plot([0,1], [0, 1], 'gray', linestyle=':', marker='')\n",
        "_ = ax1.set_title('Receiver Operating Characteristics (ROC) - Training')\n",
        "_ = ax1.set_xlabel('False Positive Rate')\n",
        "_ = ax1.set_ylabel('True Positive Rate')\n",
        "\n",
        "# plot the roc curve for the testing set\n",
        "ax2 = plt.subplot(122)\n",
        "_ = ax2.plot(lr_fpr_test, lr_tpr_test, marker='x')\n",
        "_ = ax2.plot([0,1], [0, 1], 'gray', linestyle=':', marker='')\n",
        "_ = ax2.set_title('Receiver Operating Characteristics (ROC) - Testing')\n",
        "_ = ax2.set_xlabel('False Positive Rate')\n",
        "_ = ax2.set_ylabel('True Positive Rate')"
      ],
      "execution_count": null,
      "outputs": [
        {
          "output_type": "display_data",
          "data": {
            "image/png": "[encoded data removed]",
            "text/plain": [
              "<Figure size 1080x360 with 2 Axes>"
            ]
          },
          "metadata": {
            "needs_background": "light"
          }
        }
      ]
    },
    {
      "cell_type": "code",
      "metadata": {
        "colab": {
          "base_uri": "https://localhost:8080/",
          "height": 363
        },
        "id": "CDJuWqSmUSZy",
        "outputId": "b221bcf6-c666-4f1d-e7b5-157513edf4a4"
      },
      "source": [
        "fraud = {1: 'Yes', 0:'No'} # just to revert back y_test's 0,1 numeric to YES/NO categorical values for display\n",
        "pb_df = pd.DataFrame({'fraud':[fraud[numeric_cat] for numeric_cat in y_test[0:]], 'PREDICTED PROBABILITY OF BEING FRAUD':lr_probs_test[0:]}, columns=['fraud', 'PREDICTED PROBABILITY OF BEING FRAUD'])\n",
        "pb_df.iloc[10:20].head(10)\n"
      ],
      "execution_count": null,
      "outputs": [
        {
          "output_type": "execute_result",
          "data": {
            "text/html": [
              "\n",
              "  <div id=\"df-6582d7c3-31b0-4128-8279-296e80005184\">\n",
              "    <div class=\"colab-df-container\">\n",
              "      <div>\n",
              "<style scoped>\n",
              "    .dataframe tbody tr th:only-of-type {\n",
              "        vertical-align: middle;\n",
              "    }\n",
              "\n",
              "    .dataframe tbody tr th {\n",
              "        vertical-align: top;\n",
              "    }\n",
              "\n",
              "    .dataframe thead th {\n",
              "        text-align: right;\n",
              "    }\n",
              "</style>\n",
              "<table border=\"1\" class=\"dataframe\">\n",
              "  <thead>\n",
              "    <tr style=\"text-align: right;\">\n",
              "      <th></th>\n",
              "      <th>fraud</th>\n",
              "      <th>PREDICTED PROBABILITY OF BEING FRAUD</th>\n",
              "    </tr>\n",
              "  </thead>\n",
              "  <tbody>\n",
              "    <tr>\n",
              "      <th>10</th>\n",
              "      <td>Yes</td>\n",
              "      <td>1.000000e+00</td>\n",
              "    </tr>\n",
              "    <tr>\n",
              "      <th>11</th>\n",
              "      <td>No</td>\n",
              "      <td>7.184852e-02</td>\n",
              "    </tr>\n",
              "    <tr>\n",
              "      <th>12</th>\n",
              "      <td>No</td>\n",
              "      <td>2.597424e-01</td>\n",
              "    </tr>\n",
              "    <tr>\n",
              "      <th>13</th>\n",
              "      <td>Yes</td>\n",
              "      <td>1.000000e+00</td>\n",
              "    </tr>\n",
              "    <tr>\n",
              "      <th>14</th>\n",
              "      <td>Yes</td>\n",
              "      <td>9.828063e-01</td>\n",
              "    </tr>\n",
              "    <tr>\n",
              "      <th>15</th>\n",
              "      <td>Yes</td>\n",
              "      <td>8.267523e-02</td>\n",
              "    </tr>\n",
              "    <tr>\n",
              "      <th>16</th>\n",
              "      <td>No</td>\n",
              "      <td>6.119515e-08</td>\n",
              "    </tr>\n",
              "    <tr>\n",
              "      <th>17</th>\n",
              "      <td>No</td>\n",
              "      <td>6.203350e-03</td>\n",
              "    </tr>\n",
              "    <tr>\n",
              "      <th>18</th>\n",
              "      <td>Yes</td>\n",
              "      <td>1.000000e+00</td>\n",
              "    </tr>\n",
              "    <tr>\n",
              "      <th>19</th>\n",
              "      <td>Yes</td>\n",
              "      <td>1.000000e+00</td>\n",
              "    </tr>\n",
              "  </tbody>\n",
              "</table>\n",
              "</div>\n",
              "      <button class=\"colab-df-convert\" onclick=\"convertToInteractive('df-6582d7c3-31b0-4128-8279-296e80005184')\"\n",
              "              title=\"Convert this dataframe to an interactive table.\"\n",
              "              style=\"display:none;\">\n",
              "        \n",
              "  <svg xmlns=\"http://www.w3.org/2000/svg\" height=\"24px\"viewBox=\"0 0 24 24\"\n",
              "       width=\"24px\">\n",
              "    <path d=\"M0 0h24v24H0V0z\" fill=\"none\"/>\n",
              "    <path d=\"M18.56 5.44l.94 2.06.94-2.06 2.06-.94-2.06-.94-.94-2.06-.94 2.06-2.06.94zm-11 1L8.5 8.5l.94-2.06 2.06-.94-2.06-.94L8.5 2.5l-.94 2.06-2.06.94zm10 10l.94 2.06.94-2.06 2.06-.94-2.06-.94-.94-2.06-.94 2.06-2.06.94z\"/><path d=\"M17.41 7.96l-1.37-1.37c-.4-.4-.92-.59-1.43-.59-.52 0-1.04.2-1.43.59L10.3 9.45l-7.72 7.72c-.78.78-.78 2.05 0 2.83L4 21.41c.39.39.9.59 1.41.59.51 0 1.02-.2 1.41-.59l7.78-7.78 2.81-2.81c.8-.78.8-2.07 0-2.86zM5.41 20L4 18.59l7.72-7.72 1.47 1.35L5.41 20z\"/>\n",
              "  </svg>\n",
              "      </button>\n",
              "      \n",
              "  <style>\n",
              "    .colab-df-container {\n",
              "      display:flex;\n",
              "      flex-wrap:wrap;\n",
              "      gap: 12px;\n",
              "    }\n",
              "\n",
              "    .colab-df-convert {\n",
              "      background-color: #E8F0FE;\n",
              "      border: none;\n",
              "      border-radius: 50%;\n",
              "      cursor: pointer;\n",
              "      display: none;\n",
              "      fill: #1967D2;\n",
              "      height: 32px;\n",
              "      padding: 0 0 0 0;\n",
              "      width: 32px;\n",
              "    }\n",
              "\n",
              "    .colab-df-convert:hover {\n",
              "      background-color: #E2EBFA;\n",
              "      box-shadow: 0px 1px 2px rgba(60, 64, 67, 0.3), 0px 1px 3px 1px rgba(60, 64, 67, 0.15);\n",
              "      fill: #174EA6;\n",
              "    }\n",
              "\n",
              "    [theme=dark] .colab-df-convert {\n",
              "      background-color: #3B4455;\n",
              "      fill: #D2E3FC;\n",
              "    }\n",
              "\n",
              "    [theme=dark] .colab-df-convert:hover {\n",
              "      background-color: #434B5C;\n",
              "      box-shadow: 0px 1px 3px 1px rgba(0, 0, 0, 0.15);\n",
              "      filter: drop-shadow(0px 1px 2px rgba(0, 0, 0, 0.3));\n",
              "      fill: #FFFFFF;\n",
              "    }\n",
              "  </style>\n",
              "\n",
              "      <script>\n",
              "        const buttonEl =\n",
              "          document.querySelector('#df-6582d7c3-31b0-4128-8279-296e80005184 button.colab-df-convert');\n",
              "        buttonEl.style.display =\n",
              "          google.colab.kernel.accessAllowed ? 'block' : 'none';\n",
              "\n",
              "        async function convertToInteractive(key) {\n",
              "          const element = document.querySelector('#df-6582d7c3-31b0-4128-8279-296e80005184');\n",
              "          const dataTable =\n",
              "            await google.colab.kernel.invokeFunction('convertToInteractive',\n",
              "                                                     [key], {});\n",
              "          if (!dataTable) return;\n",
              "\n",
              "          const docLinkHtml = 'Like what you see? Visit the ' +\n",
              "            '<a target=\"_blank\" href=https://colab.research.google.com/notebooks/data_table.ipynb>data table notebook</a>'\n",
              "            + ' to learn more about interactive tables.';\n",
              "          element.innerHTML = '';\n",
              "          dataTable['output_type'] = 'display_data';\n",
              "          await google.colab.output.renderOutput(dataTable, element);\n",
              "          const docLink = document.createElement('div');\n",
              "          docLink.innerHTML = docLinkHtml;\n",
              "          element.appendChild(docLink);\n",
              "        }\n",
              "      </script>\n",
              "    </div>\n",
              "  </div>\n",
              "  "
            ],
            "text/plain": [
              "   fraud  PREDICTED PROBABILITY OF BEING FRAUD\n",
              "10   Yes                          1.000000e+00\n",
              "11    No                          7.184852e-02\n",
              "12    No                          2.597424e-01\n",
              "13   Yes                          1.000000e+00\n",
              "14   Yes                          9.828063e-01\n",
              "15   Yes                          8.267523e-02\n",
              "16    No                          6.119515e-08\n",
              "17    No                          6.203350e-03\n",
              "18   Yes                          1.000000e+00\n",
              "19   Yes                          1.000000e+00"
            ]
          },
          "metadata": {},
          "execution_count": 17
        }
      ]
    },
    {
      "cell_type": "code",
      "metadata": {
        "colab": {
          "base_uri": "https://localhost:8080/",
          "height": 84
        },
        "id": "ikJLGam8Uk7x",
        "outputId": "fa559c7f-3045-4873-e5ab-10ae1f1f3667"
      },
      "source": [
        "# compute: net input (z): refer to Slide 4 of lecture notes [it is just the weighted sum, z = \\sum_{j=1}^m w_j.x_j + w_0]\n",
        "z = np.dot(X_test[10:11].tolist()[0], grid.best_estimator_.coef_[0])+grid.best_estimator_.intercept_[0]\n",
        "\n",
        "# compute: sigma(z): the probability / activation function output - again refer to Slide 4 of lecture notes....\n",
        "sigma_z = 1 / (1+ np.exp(-z))\n",
        "print(\"For record X_test[10], our manually computed probability: {}, sklearn's returned probability: {}\".format(sigma_z, grid.predict_proba(X_test[10:11])[:,1][0]))\n",
        "print('The two false positives are below: ')\n",
        "pb_df[(pb_df['fraud'] == 'no') & (pb_df['PREDICTED PROBABILITY OF BEING FRAUD'] >= 0.5)]"
      ],
      "execution_count": null,
      "outputs": [
        {
          "output_type": "stream",
          "name": "stdout",
          "text": [
            "For record X_test[10], our manually computed probability: 1.0, sklearn's returned probability: 1.0\n",
            "The two false positives are below: \n"
          ]
        },
        {
          "output_type": "execute_result",
          "data": {
            "text/html": [
              "\n",
              "  <div id=\"df-aa9d572c-df13-4370-8cb0-3595f4c52870\">\n",
              "    <div class=\"colab-df-container\">\n",
              "      <div>\n",
              "<style scoped>\n",
              "    .dataframe tbody tr th:only-of-type {\n",
              "        vertical-align: middle;\n",
              "    }\n",
              "\n",
              "    .dataframe tbody tr th {\n",
              "        vertical-align: top;\n",
              "    }\n",
              "\n",
              "    .dataframe thead th {\n",
              "        text-align: right;\n",
              "    }\n",
              "</style>\n",
              "<table border=\"1\" class=\"dataframe\">\n",
              "  <thead>\n",
              "    <tr style=\"text-align: right;\">\n",
              "      <th></th>\n",
              "      <th>fraud</th>\n",
              "      <th>PREDICTED PROBABILITY OF BEING FRAUD</th>\n",
              "    </tr>\n",
              "  </thead>\n",
              "  <tbody>\n",
              "  </tbody>\n",
              "</table>\n",
              "</div>\n",
              "      <button class=\"colab-df-convert\" onclick=\"convertToInteractive('df-aa9d572c-df13-4370-8cb0-3595f4c52870')\"\n",
              "              title=\"Convert this dataframe to an interactive table.\"\n",
              "              style=\"display:none;\">\n",
              "        \n",
              "  <svg xmlns=\"http://www.w3.org/2000/svg\" height=\"24px\"viewBox=\"0 0 24 24\"\n",
              "       width=\"24px\">\n",
              "    <path d=\"M0 0h24v24H0V0z\" fill=\"none\"/>\n",
              "    <path d=\"M18.56 5.44l.94 2.06.94-2.06 2.06-.94-2.06-.94-.94-2.06-.94 2.06-2.06.94zm-11 1L8.5 8.5l.94-2.06 2.06-.94-2.06-.94L8.5 2.5l-.94 2.06-2.06.94zm10 10l.94 2.06.94-2.06 2.06-.94-2.06-.94-.94-2.06-.94 2.06-2.06.94z\"/><path d=\"M17.41 7.96l-1.37-1.37c-.4-.4-.92-.59-1.43-.59-.52 0-1.04.2-1.43.59L10.3 9.45l-7.72 7.72c-.78.78-.78 2.05 0 2.83L4 21.41c.39.39.9.59 1.41.59.51 0 1.02-.2 1.41-.59l7.78-7.78 2.81-2.81c.8-.78.8-2.07 0-2.86zM5.41 20L4 18.59l7.72-7.72 1.47 1.35L5.41 20z\"/>\n",
              "  </svg>\n",
              "      </button>\n",
              "      \n",
              "  <style>\n",
              "    .colab-df-container {\n",
              "      display:flex;\n",
              "      flex-wrap:wrap;\n",
              "      gap: 12px;\n",
              "    }\n",
              "\n",
              "    .colab-df-convert {\n",
              "      background-color: #E8F0FE;\n",
              "      border: none;\n",
              "      border-radius: 50%;\n",
              "      cursor: pointer;\n",
              "      display: none;\n",
              "      fill: #1967D2;\n",
              "      height: 32px;\n",
              "      padding: 0 0 0 0;\n",
              "      width: 32px;\n",
              "    }\n",
              "\n",
              "    .colab-df-convert:hover {\n",
              "      background-color: #E2EBFA;\n",
              "      box-shadow: 0px 1px 2px rgba(60, 64, 67, 0.3), 0px 1px 3px 1px rgba(60, 64, 67, 0.15);\n",
              "      fill: #174EA6;\n",
              "    }\n",
              "\n",
              "    [theme=dark] .colab-df-convert {\n",
              "      background-color: #3B4455;\n",
              "      fill: #D2E3FC;\n",
              "    }\n",
              "\n",
              "    [theme=dark] .colab-df-convert:hover {\n",
              "      background-color: #434B5C;\n",
              "      box-shadow: 0px 1px 3px 1px rgba(0, 0, 0, 0.15);\n",
              "      filter: drop-shadow(0px 1px 2px rgba(0, 0, 0, 0.3));\n",
              "      fill: #FFFFFF;\n",
              "    }\n",
              "  </style>\n",
              "\n",
              "      <script>\n",
              "        const buttonEl =\n",
              "          document.querySelector('#df-aa9d572c-df13-4370-8cb0-3595f4c52870 button.colab-df-convert');\n",
              "        buttonEl.style.display =\n",
              "          google.colab.kernel.accessAllowed ? 'block' : 'none';\n",
              "\n",
              "        async function convertToInteractive(key) {\n",
              "          const element = document.querySelector('#df-aa9d572c-df13-4370-8cb0-3595f4c52870');\n",
              "          const dataTable =\n",
              "            await google.colab.kernel.invokeFunction('convertToInteractive',\n",
              "                                                     [key], {});\n",
              "          if (!dataTable) return;\n",
              "\n",
              "          const docLinkHtml = 'Like what you see? Visit the ' +\n",
              "            '<a target=\"_blank\" href=https://colab.research.google.com/notebooks/data_table.ipynb>data table notebook</a>'\n",
              "            + ' to learn more about interactive tables.';\n",
              "          element.innerHTML = '';\n",
              "          dataTable['output_type'] = 'display_data';\n",
              "          await google.colab.output.renderOutput(dataTable, element);\n",
              "          const docLink = document.createElement('div');\n",
              "          docLink.innerHTML = docLinkHtml;\n",
              "          element.appendChild(docLink);\n",
              "        }\n",
              "      </script>\n",
              "    </div>\n",
              "  </div>\n",
              "  "
            ],
            "text/plain": [
              "Empty DataFrame\n",
              "Columns: [fraud, PREDICTED PROBABILITY OF BEING FRAUD]\n",
              "Index: []"
            ]
          },
          "metadata": {},
          "execution_count": 18
        }
      ]
    },
    {
      "cell_type": "code",
      "metadata": {
        "colab": {
          "base_uri": "https://localhost:8080/"
        },
        "id": "bJw7qAN2VJrA",
        "outputId": "772cca57-ef6f-4025-a016-4106e631873f"
      },
      "source": [
        "print(pb_df)"
      ],
      "execution_count": null,
      "outputs": [
        {
          "output_type": "stream",
          "name": "stdout",
          "text": [
            "    fraud  PREDICTED PROBABILITY OF BEING FRAUD\n",
            "0     Yes                              1.000000\n",
            "1     Yes                              1.000000\n",
            "2      No                              0.121793\n",
            "3     Yes                              1.000000\n",
            "4      No                              0.039950\n",
            "..    ...                                   ...\n",
            "192    No                              0.000168\n",
            "193   Yes                              1.000000\n",
            "194    No                              0.033968\n",
            "195   Yes                              1.000000\n",
            "196    No                              0.100491\n",
            "\n",
            "[197 rows x 2 columns]\n"
          ]
        }
      ]
    },
    {
      "cell_type": "code",
      "metadata": {
        "colab": {
          "base_uri": "https://localhost:8080/"
        },
        "id": "6KZBLA-sV_ZR",
        "outputId": "40ad8a54-417d-407d-b83e-03cc6de356af"
      },
      "source": [
        "y_train_predict[0:10]"
      ],
      "execution_count": null,
      "outputs": [
        {
          "output_type": "execute_result",
          "data": {
            "text/plain": [
              "array([0, 0, 0, 1, 1, 1, 0, 0, 0, 1])"
            ]
          },
          "metadata": {},
          "execution_count": 21
        }
      ]
    },
    {
      "cell_type": "code",
      "metadata": {
        "colab": {
          "base_uri": "https://localhost:8080/"
        },
        "id": "s7zsWlSqWIxA",
        "outputId": "009e832d-ba27-4a58-c986-6b771ae04f03"
      },
      "source": [
        "y_train[0:10]"
      ],
      "execution_count": null,
      "outputs": [
        {
          "output_type": "execute_result",
          "data": {
            "text/plain": [
              "33     0\n",
              "281    0\n",
              "648    1\n",
              "802    1\n",
              "513    1\n",
              "907    1\n",
              "423    0\n",
              "282    0\n",
              "131    0\n",
              "701    1\n",
              "Name: Class, dtype: int64"
            ]
          },
          "metadata": {},
          "execution_count": 22
        }
      ]
    }
  ]
}